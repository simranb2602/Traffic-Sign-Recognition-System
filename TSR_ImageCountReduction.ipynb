{
 "cells": [
  {
   "cell_type": "code",
   "execution_count": 1,
   "metadata": {},
   "outputs": [],
   "source": [
    "import os\n",
    "\n",
    "# Function to ensure each folder contains 500 or fewer images by deleting smaller images\n",
    "def limit_images_per_folder(root, max=700):\n",
    "    for folder in os.listdir(root):\n",
    "        path = os.path.join(root, folder)\n",
    "        if os.path.isdir(path):\n",
    "            images = [f for f in os.listdir(path) if f.endswith(('.jpg', '.jpeg', '.png', '.gif', '.bmp'))]\n",
    "            if len(images) > max:\n",
    "                images.sort(key=lambda x: os.path.getsize(os.path.join(path, x)))\n",
    "                excess_images = len(images) - max\n",
    "                print(f\"Deleting {excess_images} smaller images from {folder}...\")\n",
    "                excess_images_list = images[:excess_images]\n",
    "                for image in excess_images_list:\n",
    "                    image_path = os.path.join(path, image)\n",
    "                    os.remove(image_path)\n",
    "                print(f\"Deleted {excess_images} smaller images.\")\n",
    "            else:\n",
    "                print(f\"{folder} already contains {len(images)} images. No action needed.\")"
   ]
  },
  {
   "cell_type": "code",
   "execution_count": 2,
   "metadata": {},
   "outputs": [
    {
     "name": "stdout",
     "output_type": "stream",
     "text": [
      "0 already contains 700 images. No action needed.\n",
      "1 already contains 700 images. No action needed.\n",
      "10 already contains 700 images. No action needed.\n",
      "11 already contains 700 images. No action needed.\n",
      "12 already contains 700 images. No action needed.\n",
      "13 already contains 700 images. No action needed.\n",
      "14 already contains 700 images. No action needed.\n",
      "15 already contains 700 images. No action needed.\n",
      "16 already contains 700 images. No action needed.\n",
      "17 already contains 700 images. No action needed.\n",
      "18 already contains 700 images. No action needed.\n",
      "19 already contains 700 images. No action needed.\n",
      "2 already contains 700 images. No action needed.\n",
      "20 already contains 700 images. No action needed.\n",
      "21 already contains 700 images. No action needed.\n",
      "22 already contains 700 images. No action needed.\n",
      "23 already contains 700 images. No action needed.\n",
      "24 already contains 700 images. No action needed.\n",
      "25 already contains 700 images. No action needed.\n",
      "26 already contains 700 images. No action needed.\n",
      "27 already contains 700 images. No action needed.\n",
      "28 already contains 700 images. No action needed.\n",
      "29 already contains 700 images. No action needed.\n",
      "3 already contains 700 images. No action needed.\n",
      "30 already contains 700 images. No action needed.\n",
      "31 already contains 700 images. No action needed.\n",
      "32 already contains 700 images. No action needed.\n",
      "33 already contains 700 images. No action needed.\n",
      "34 already contains 700 images. No action needed.\n",
      "35 already contains 700 images. No action needed.\n",
      "36 already contains 700 images. No action needed.\n",
      "37 already contains 700 images. No action needed.\n",
      "38 already contains 700 images. No action needed.\n",
      "39 already contains 700 images. No action needed.\n",
      "4 already contains 700 images. No action needed.\n",
      "40 already contains 700 images. No action needed.\n",
      "41 already contains 700 images. No action needed.\n",
      "42 already contains 700 images. No action needed.\n",
      "5 already contains 700 images. No action needed.\n",
      "6 already contains 700 images. No action needed.\n",
      "7 already contains 700 images. No action needed.\n",
      "8 already contains 700 images. No action needed.\n",
      "9 already contains 700 images. No action needed.\n"
     ]
    }
   ],
   "source": [
    "# Change 'root_directory' to the path of the directory containing your 43 folders\n",
    "root_directory = \"I:\\class\\Term3\\AML 3104\\Project\\Train\"\n",
    "\n",
    "# Call the function to limit images per folder\n",
    "limit_images_per_folder(root_directory)"
   ]
  }
 ],
 "metadata": {
  "kernelspec": {
   "display_name": "Python 3",
   "language": "python",
   "name": "python3"
  },
  "language_info": {
   "codemirror_mode": {
    "name": "ipython",
    "version": 3
   },
   "file_extension": ".py",
   "mimetype": "text/x-python",
   "name": "python",
   "nbconvert_exporter": "python",
   "pygments_lexer": "ipython3",
   "version": "3.11.3"
  }
 },
 "nbformat": 4,
 "nbformat_minor": 2
}

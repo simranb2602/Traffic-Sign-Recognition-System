{
 "cells": [
  {
   "cell_type": "code",
   "execution_count": 1,
   "metadata": {},
   "outputs": [],
   "source": [
    "import cv2\n",
    "import numpy as np\n",
    "import random\n",
    "import os"
   ]
  },
  {
   "cell_type": "code",
   "execution_count": 2,
   "metadata": {},
   "outputs": [],
   "source": [
    "\"\"\"Rotate the image by the given angle.\"\"\"\n",
    "def rotate_image(image, angle):\n",
    "    height, width = image.shape[:2]\n",
    "    rotation_matrix = cv2.getRotationMatrix2D((width / 2, height / 2), angle, 1)\n",
    "    rotated_image = cv2.warpAffine(image, rotation_matrix, (width, height))\n",
    "    return rotated_image"
   ]
  },
  {
   "cell_type": "code",
   "execution_count": 3,
   "metadata": {},
   "outputs": [],
   "source": [
    "\"\"\"Flip the image horizontally or vertically.\"\"\"\n",
    "def flip_image(image, flip_code):\n",
    "    return cv2.flip(image, flip_code)"
   ]
  },
  {
   "cell_type": "code",
   "execution_count": 4,
   "metadata": {},
   "outputs": [],
   "source": [
    "\"\"\"Translate the image horizontally and vertically.\"\"\"\n",
    "def translate_image(image, dx, dy):\n",
    "    height, width = image.shape[:2]\n",
    "    translation_matrix = np.float32([[1, 0, dx], [0, 1, dy]])\n",
    "    translated_image = cv2.warpAffine(image, translation_matrix, (width, height))\n",
    "    return translated_image"
   ]
  },
  {
   "cell_type": "code",
   "execution_count": 5,
   "metadata": {},
   "outputs": [],
   "source": [
    "\"\"\"Adjust the brightness of the image.\"\"\"\n",
    "def adjust_brightness(image, brightness_factor):\n",
    "    return cv2.convertScaleAbs(image, alpha=brightness_factor, beta=0)"
   ]
  },
  {
   "cell_type": "code",
   "execution_count": 6,
   "metadata": {},
   "outputs": [],
   "source": [
    "\"\"\"Apply shear transformation to the image.\"\"\"\n",
    "def shear_image(image, shear_factor):\n",
    "    height, width = image.shape[:2]\n",
    "    shear_matrix = np.float32([[1, shear_factor, 0], [0, 1, 0]])\n",
    "    sheared_image = cv2.warpAffine(image, shear_matrix, (width, height))\n",
    "    return sheared_image"
   ]
  },
  {
   "cell_type": "code",
   "execution_count": 7,
   "metadata": {},
   "outputs": [],
   "source": [
    "\"\"\"Convert the image to grayscale.\"\"\"\n",
    "def grayscale_image(image):\n",
    "    return cv2.cvtColor(image, cv2.COLOR_BGR2GRAY)"
   ]
  },
  {
   "cell_type": "code",
   "execution_count": 8,
   "metadata": {},
   "outputs": [],
   "source": [
    "'''Final Augmentation Function'''\n",
    "def augment_image(image):\n",
    "    # Apply random augmentation techniques to the image.\n",
    "    # Randomly select augmentation techniques\n",
    "    rotation_angle = random.uniform(-10, 10)\n",
    "    flip_code = random.choice([-1, 0, 1])  # Horizontal, Vertical, or Both\n",
    "    dx, dy = random.randint(-20, 20), random.randint(-20, 20)\n",
    "    brightness_factor = random.uniform(0.5, 1.5)\n",
    "    shear_factor = random.uniform(-0.2, 0.2)\n",
    "    \n",
    "    # Apply augmentation techniques\n",
    "    augmented_image = rotate_image(image, rotation_angle)\n",
    "    augmented_image = flip_image(augmented_image, flip_code)\n",
    "    augmented_image = translate_image(augmented_image, dx, dy)\n",
    "    augmented_image = adjust_brightness(augmented_image, brightness_factor)\n",
    "    augmented_image = shear_image(augmented_image, shear_factor)\n",
    "    \n",
    "    return augmented_image"
   ]
  },
  {
   "cell_type": "code",
   "execution_count": 9,
   "metadata": {},
   "outputs": [],
   "source": [
    "def count_images_in_folder(folder_path):\n",
    "    # Count the number of images in a folder\n",
    "    num_images = sum([len(files) for _, _, files in os.walk(folder_path)])\n",
    "    return num_images"
   ]
  },
  {
   "cell_type": "code",
   "execution_count": 11,
   "metadata": {},
   "outputs": [],
   "source": [
    "def augment_images_in_folder(Folder):\n",
    "    # Check the number of existing images in the folder\n",
    "    existing_images = count_images_in_folder(Folder)\n",
    "    \n",
    "    # Calculate the number of images needed to reach the limit\n",
    "    remaining_images = 700 - existing_images\n",
    "    \n",
    "    # If the folder already has max_count or more images, no augmentation needed\n",
    "    if existing_images >= 700:\n",
    "        print(f\"No augmentation needed for {Folder}.\")\n",
    "        return\n",
    "    \n",
    "    print(f\"Augmenting images for {Folder}...\")\n",
    "    # List all images in the input folder\n",
    "    input_images = [file for file in os.listdir(Folder) if file.endswith(('.jpg', '.png', '.jpeg'))]\n",
    "    \n",
    "    # Augment images until reaching the limit of 500\n",
    "    for i in range(remaining_images):\n",
    "        # Load an image from the input folder\n",
    "        image_name = input_images[i % len(input_images)]  # Wrap around if fewer input images\n",
    "        image_path = os.path.join(Folder, image_name)\n",
    "        image = cv2.imread(image_path)\n",
    "        \n",
    "        # Augment the image\n",
    "        augmented_image = augment_image(image)\n",
    "         \n",
    "        # Determine the filename for the augmented image\n",
    "        base_name, extension = os.path.splitext(image_name)\n",
    "        augmented_image_name = f'{base_name}_augmented_{i}{extension}'\n",
    "        output_path = os.path.join(Folder, augmented_image_name)\n",
    "\n",
    "        # Save the augmented image to the same folder\n",
    "        cv2.imwrite(output_path, augmented_image)\n",
    "\n",
    "    print(f\"{Folder} now has {count_images_in_folder(Folder)} images.\")"
   ]
  },
  {
   "cell_type": "code",
   "execution_count": 12,
   "metadata": {},
   "outputs": [
    {
     "name": "stdout",
     "output_type": "stream",
     "text": [
      "No augmentation needed for I:\\class\\Term3\\AML 3104\\Project\\Train\\0.\n",
      "No augmentation needed for I:\\class\\Term3\\AML 3104\\Project\\Train\\1.\n",
      "No augmentation needed for I:\\class\\Term3\\AML 3104\\Project\\Train\\10.\n",
      "No augmentation needed for I:\\class\\Term3\\AML 3104\\Project\\Train\\11.\n",
      "No augmentation needed for I:\\class\\Term3\\AML 3104\\Project\\Train\\12.\n",
      "No augmentation needed for I:\\class\\Term3\\AML 3104\\Project\\Train\\13.\n",
      "No augmentation needed for I:\\class\\Term3\\AML 3104\\Project\\Train\\14.\n",
      "No augmentation needed for I:\\class\\Term3\\AML 3104\\Project\\Train\\15.\n",
      "No augmentation needed for I:\\class\\Term3\\AML 3104\\Project\\Train\\16.\n",
      "No augmentation needed for I:\\class\\Term3\\AML 3104\\Project\\Train\\17.\n",
      "No augmentation needed for I:\\class\\Term3\\AML 3104\\Project\\Train\\18.\n",
      "No augmentation needed for I:\\class\\Term3\\AML 3104\\Project\\Train\\19.\n",
      "No augmentation needed for I:\\class\\Term3\\AML 3104\\Project\\Train\\2.\n",
      "No augmentation needed for I:\\class\\Term3\\AML 3104\\Project\\Train\\20.\n",
      "No augmentation needed for I:\\class\\Term3\\AML 3104\\Project\\Train\\21.\n",
      "No augmentation needed for I:\\class\\Term3\\AML 3104\\Project\\Train\\22.\n",
      "No augmentation needed for I:\\class\\Term3\\AML 3104\\Project\\Train\\23.\n",
      "No augmentation needed for I:\\class\\Term3\\AML 3104\\Project\\Train\\24.\n",
      "No augmentation needed for I:\\class\\Term3\\AML 3104\\Project\\Train\\25.\n",
      "No augmentation needed for I:\\class\\Term3\\AML 3104\\Project\\Train\\26.\n",
      "No augmentation needed for I:\\class\\Term3\\AML 3104\\Project\\Train\\27.\n",
      "No augmentation needed for I:\\class\\Term3\\AML 3104\\Project\\Train\\28.\n",
      "No augmentation needed for I:\\class\\Term3\\AML 3104\\Project\\Train\\29.\n",
      "No augmentation needed for I:\\class\\Term3\\AML 3104\\Project\\Train\\3.\n",
      "No augmentation needed for I:\\class\\Term3\\AML 3104\\Project\\Train\\30.\n",
      "No augmentation needed for I:\\class\\Term3\\AML 3104\\Project\\Train\\31.\n",
      "No augmentation needed for I:\\class\\Term3\\AML 3104\\Project\\Train\\32.\n",
      "No augmentation needed for I:\\class\\Term3\\AML 3104\\Project\\Train\\33.\n",
      "No augmentation needed for I:\\class\\Term3\\AML 3104\\Project\\Train\\34.\n",
      "No augmentation needed for I:\\class\\Term3\\AML 3104\\Project\\Train\\35.\n",
      "No augmentation needed for I:\\class\\Term3\\AML 3104\\Project\\Train\\36.\n",
      "No augmentation needed for I:\\class\\Term3\\AML 3104\\Project\\Train\\37.\n",
      "No augmentation needed for I:\\class\\Term3\\AML 3104\\Project\\Train\\38.\n",
      "No augmentation needed for I:\\class\\Term3\\AML 3104\\Project\\Train\\39.\n",
      "No augmentation needed for I:\\class\\Term3\\AML 3104\\Project\\Train\\4.\n",
      "No augmentation needed for I:\\class\\Term3\\AML 3104\\Project\\Train\\40.\n",
      "No augmentation needed for I:\\class\\Term3\\AML 3104\\Project\\Train\\41.\n",
      "No augmentation needed for I:\\class\\Term3\\AML 3104\\Project\\Train\\42.\n",
      "No augmentation needed for I:\\class\\Term3\\AML 3104\\Project\\Train\\5.\n",
      "No augmentation needed for I:\\class\\Term3\\AML 3104\\Project\\Train\\6.\n",
      "No augmentation needed for I:\\class\\Term3\\AML 3104\\Project\\Train\\7.\n",
      "No augmentation needed for I:\\class\\Term3\\AML 3104\\Project\\Train\\8.\n",
      "No augmentation needed for I:\\class\\Term3\\AML 3104\\Project\\Train\\9.\n"
     ]
    }
   ],
   "source": [
    "for folder_name in os.listdir('I:\\class\\Term3\\AML 3104\\Project\\Train'):\n",
    "    input_folder = os.path.join('I:\\class\\Term3\\AML 3104\\Project\\Train', folder_name)\n",
    "\n",
    "    # Augment images in the folder\n",
    "    augment_images_in_folder(input_folder)"
   ]
  }
 ],
 "metadata": {
  "kernelspec": {
   "display_name": "base",
   "language": "python",
   "name": "python3"
  },
  "language_info": {
   "codemirror_mode": {
    "name": "ipython",
    "version": 3
   },
   "file_extension": ".py",
   "mimetype": "text/x-python",
   "name": "python",
   "nbconvert_exporter": "python",
   "pygments_lexer": "ipython3",
   "version": "3.11.3"
  }
 },
 "nbformat": 4,
 "nbformat_minor": 2
}
